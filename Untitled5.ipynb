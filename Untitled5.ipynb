{
  "nbformat": 4,
  "nbformat_minor": 0,
  "metadata": {
    "colab": {
      "name": "Untitled5.ipynb",
      "provenance": [],
      "include_colab_link": true
    },
    "kernelspec": {
      "name": "python3",
      "display_name": "Python 3"
    }
  },
  "cells": [
    {
      "cell_type": "markdown",
      "metadata": {
        "id": "view-in-github",
        "colab_type": "text"
      },
      "source": [
        "<a href=\"https://colab.research.google.com/github/srbee/HelloWorld/blob/master/Untitled5.ipynb\" target=\"_parent\"><img src=\"https://colab.research.google.com/assets/colab-badge.svg\" alt=\"Open In Colab\"/></a>"
      ]
    },
    {
      "cell_type": "code",
      "metadata": {
        "id": "k1fy3wg6FWIA",
        "colab_type": "code",
        "colab": {
          "base_uri": "https://localhost:8080/",
          "height": 86
        },
        "outputId": "cc26d9cc-37e4-4d4f-9957-23e833d4f765"
      },
      "source": [
        "class Student:\n",
        "    def __init__(self,name,phoneNo):\n",
        "        self.name=name\n",
        "        self.phoneNo=phoneNo\n",
        "    def greet(self):\n",
        "        print(self.name,'your phone number is ',self.phoneNo)\n",
        "\n",
        "s1=Student(\"Shamika\",9123456789)\n",
        "s2=Student(\"Swanandi\",9999999999)\n",
        "s3=Student(\"Kuhu\",7777777777)\n",
        "s4=Student('Tanmay',4545454545)\n",
        "\n",
        "\n",
        "s=[s1,s2,s3,s4]\n",
        "N=len(s)\n",
        "\n",
        "for i in range(N):\n",
        "    s[i].greet()\n",
        "\n"
      ],
      "execution_count": 61,
      "outputs": [
        {
          "output_type": "stream",
          "text": [
            "Shamika your phone number is  9123456789\n",
            "Swanandi your phone number is  9999999999\n",
            "Kuhu your phone number is  7777777777\n",
            "Tanmay your phone number is  4545454545\n"
          ],
          "name": "stdout"
        }
      ]
    }
  ]
}