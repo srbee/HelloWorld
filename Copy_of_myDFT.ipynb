{
  "nbformat": 4,
  "nbformat_minor": 0,
  "metadata": {
    "colab": {
      "name": "Copy of myDFT.ipynb",
      "version": "0.3.2",
      "provenance": [],
      "include_colab_link": true
    },
    "kernelspec": {
      "name": "python3",
      "display_name": "Python 3"
    }
  },
  "cells": [
    {
      "cell_type": "markdown",
      "metadata": {
        "id": "view-in-github",
        "colab_type": "text"
      },
      "source": [
        "<a href=\"https://colab.research.google.com/github/srbee/HelloWorld/blob/master/Copy_of_myDFT.ipynb\" target=\"_parent\"><img src=\"https://colab.research.google.com/assets/colab-badge.svg\" alt=\"Open In Colab\"/></a>"
      ]
    },
    {
      "metadata": {
        "id": "U4FDiEIDsf3V",
        "colab_type": "text"
      },
      "cell_type": "markdown",
      "source": [
        "This is a Google Colab Note Book\n",
        "\n",
        "\n"
      ]
    },
    {
      "metadata": {
        "id": "pQS30-OCtbQ8",
        "colab_type": "code",
        "outputId": "a61f50a9-fb45-4d20-98c9-9631e8ca2904",
        "colab": {
          "base_uri": "https://localhost:8080/",
          "height": 34
        }
      },
      "cell_type": "code",
      "source": [
        "print(\"Shri Ganeshaya Namah\")"
      ],
      "execution_count": 0,
      "outputs": [
        {
          "output_type": "stream",
          "text": [
            "Shri Ganeshaya Namah\n"
          ],
          "name": "stdout"
        }
      ]
    },
    {
      "metadata": {
        "id": "thl1Y0k9tkao",
        "colab_type": "text"
      },
      "cell_type": "markdown",
      "source": [
        "Let us write the DFT program ( once again !) \n",
        "\n",
        "x---> array of samples\n",
        "\n",
        "N --> No. of samples\n",
        "\n",
        "Xmag--> outpput array containing DFT magnitude values\n",
        "\n",
        "Xph --> output array containing DFT phase values\n"
      ]
    },
    {
      "metadata": {
        "id": "E8EkwykiuHeN",
        "colab_type": "code",
        "outputId": "4853ec2e-cf16-410b-91e5-6d9c255c8f3d",
        "colab": {
          "base_uri": "https://localhost:8080/",
          "height": 119
        }
      },
      "cell_type": "code",
      "source": [
        "\n",
        "import math\n",
        "\n",
        "import numpy as np\n",
        "x=np.array([10,20,30,40],'float')\n",
        "print(\"Input samples x = \",x)\n",
        "N=len(x)\n",
        "print(\"No. of input samples =  \",N)\n",
        "ZeroToN=range(N)\n",
        "X    = np.zeros(N) # Initialize the output samples to zero MATLAB like ! \n",
        "Xcos = np.zeros(N)\n",
        "Xsin = np.zeros(N)\n",
        "Xmag = np.zeros(N)\n",
        "Xph  = np.zeros(N)\n",
        "\n",
        "# Remember it is np.zeros(N) and not just zeros(N)\n",
        "for m in ZeroToN:\n",
        "  X[m]=0\n",
        "  \n",
        "for m in ZeroToN:\n",
        "  for n in ZeroToN:\n",
        "    #print(m,n)\n",
        "    Xcos[m]=Xcos[m]+x[n]*math.cos((2*math.pi*m*n)/N)\n",
        "    Xsin[m]=Xsin[m]+x[n]*math.sin((2*math.pi*m*n)/N)\n",
        "    Xmag[m]=math.sqrt(Xcos[m]*Xcos[m]+Xsin[m]*Xsin[m])\n",
        "    Xph[m] =math.degrees(math.atan2(Xsin[m],Xcos[m]))\n",
        "\n",
        "print('Xcos = ',Xcos)\n",
        "print('Xsin = ',Xsin)\n",
        "print('Xmag = ',Xmag)\n",
        "print('Xph(degrees) = ',Xph)\n",
        "\n"
      ],
      "execution_count": 0,
      "outputs": [
        {
          "output_type": "stream",
          "text": [
            "Input samples x =  [10. 20. 30. 40.]\n",
            "No. of input samples =   4\n",
            "Xcos =  [100. -20. -20. -20.]\n",
            "Xsin =  [ 0.00000000e+00 -2.00000000e+01  9.79717439e-15  2.00000000e+01]\n",
            "Xmag =  [100.          28.28427125  20.          28.28427125]\n",
            "Xph(degrees) =  [   0. -135.  180.  135.]\n"
          ],
          "name": "stdout"
        }
      ]
    },
    {
      "metadata": {
        "id": "zXsloJJTF6qU",
        "colab_type": "code",
        "outputId": "401030c9-8c89-465b-f3ad-737cc95e22b6",
        "colab": {
          "base_uri": "https://localhost:8080/",
          "height": 34
        }
      },
      "cell_type": "code",
      "source": [
        "import scipy as sp\n",
        "y=sp.fft(x)\n",
        "print(y)"
      ],
      "execution_count": 0,
      "outputs": [
        {
          "output_type": "stream",
          "text": [
            "[100. +0.j -20.+20.j -20. +0.j -20.-20.j]\n"
          ],
          "name": "stdout"
        }
      ]
    },
    {
      "metadata": {
        "id": "HQ19uZ7BGfVo",
        "colab_type": "code",
        "outputId": "c9845725-5e91-4a76-88eb-974e5dedb05f",
        "colab": {
          "base_uri": "https://localhost:8080/",
          "height": 51
        }
      },
      "cell_type": "code",
      "source": [
        "ymag=abs(y)\n",
        "print(ymag)\n",
        "print(Xmag-ymag)"
      ],
      "execution_count": 0,
      "outputs": [
        {
          "output_type": "stream",
          "text": [
            "[100.          28.28427125  20.          28.28427125]\n",
            "[ 0.00000000e+00  3.55271368e-15  0.00000000e+00 -3.55271368e-15]\n"
          ],
          "name": "stdout"
        }
      ]
    }
  ]
}