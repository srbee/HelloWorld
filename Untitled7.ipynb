{
  "nbformat": 4,
  "nbformat_minor": 0,
  "metadata": {
    "colab": {
      "name": "Untitled7.ipynb",
      "provenance": [],
      "include_colab_link": true
    },
    "kernelspec": {
      "name": "python3",
      "display_name": "Python 3"
    }
  },
  "cells": [
    {
      "cell_type": "markdown",
      "metadata": {
        "id": "view-in-github",
        "colab_type": "text"
      },
      "source": [
        "<a href=\"https://colab.research.google.com/github/srbee/HelloWorld/blob/master/Untitled7.ipynb\" target=\"_parent\"><img src=\"https://colab.research.google.com/assets/colab-badge.svg\" alt=\"Open In Colab\"/></a>"
      ]
    },
    {
      "cell_type": "code",
      "metadata": {
        "id": "yC0EkcwnqnRy",
        "colab_type": "code",
        "colab": {
          "base_uri": "https://localhost:8080/",
          "height": 86
        },
        "outputId": "73afe8e6-9ab1-4bbd-e9c2-f8ffe5636edd"
      },
      "source": [
        "import urllib\n",
        "fhand = urllib.request.urlopen('http://www.py4inf.com/code/romeo.txt')\n",
        "#fhand=urllib.request.urlopen('http://www.google.com/')\n",
        "for line in fhand:\n",
        " print (line.strip())"
      ],
      "execution_count": 1,
      "outputs": [
        {
          "output_type": "stream",
          "text": [
            "b'But soft what light through yonder window breaks'\n",
            "b'It is the east and Juliet is the sun'\n",
            "b'Arise fair sun and kill the envious moon'\n",
            "b'Who is already sick and pale with grief'\n"
          ],
          "name": "stdout"
        }
      ]
    }
  ]
}