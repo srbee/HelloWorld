{
  "nbformat": 4,
  "nbformat_minor": 0,
  "metadata": {
    "colab": {
      "name": "Copy of Copy of myDFT.ipynb",
      "version": "0.3.2",
      "provenance": [],
      "include_colab_link": true
    },
    "kernelspec": {
      "name": "python3",
      "display_name": "Python 3"
    }
  },
  "cells": [
    {
      "cell_type": "markdown",
      "metadata": {
        "id": "view-in-github",
        "colab_type": "text"
      },
      "source": [
        "<a href=\"https://colab.research.google.com/github/srbee/HelloWorld/blob/master/Copy_of_Copy_of_myDFT.ipynb\" target=\"_parent\"><img src=\"https://colab.research.google.com/assets/colab-badge.svg\" alt=\"Open In Colab\"/></a>"
      ]
    },
    {
      "metadata": {
        "id": "U4FDiEIDsf3V",
        "colab_type": "text"
      },
      "cell_type": "markdown",
      "source": [
        "This is a Google Colab Note Book\n",
        "\n",
        "-------------------SRB---/22 April 2019--------\n",
        "\n",
        "\n"
      ]
    },
    {
      "metadata": {
        "id": "thl1Y0k9tkao",
        "colab_type": "text"
      },
      "cell_type": "markdown",
      "source": [
        "Let us write the DFT program ( once again !) \n",
        "\n",
        "x---> array of samples\n",
        "\n",
        "N --> No. of samples\n",
        "\n",
        "Xmag--> outpput array containing DFT magnitude values\n",
        "\n",
        "Xmag_s --> shifted Xmag for FFT shift (MATLAB)  type display\n",
        "\n",
        "h  --> enumeration of harmonics starting from 0 to N-1\n",
        "\n",
        "h_s  --> shifted version of above for FFT shift type display\n",
        "\n",
        "Xph --> output array containing DFT phase values\n"
      ]
    },
    {
      "metadata": {
        "id": "E8EkwykiuHeN",
        "colab_type": "code",
        "outputId": "c3d976e3-9cbc-47f4-e389-63a586bc7610",
        "colab": {
          "base_uri": "https://localhost:8080/",
          "height": 670
        }
      },
      "cell_type": "code",
      "source": [
        "\n",
        "import math\n",
        "import matplotlib.pyplot as plot\n",
        "import numpy as np\n",
        "\n",
        "# ======== Signal Gallery ===============================\n",
        "# ==== Add sine,cosine and trapezoidal waves ============\n",
        "# ===== Make it interactive ============================\n",
        "# ====== myDFT(signal) should be a function ============\n",
        "pulse=[0,0,0,0,0,0,0,0,0,0,0,0,0,0,0,0,0,0,0,\\\n",
        "       100,100,100,100,100,100,\\\n",
        "        0,0,0,0,0,0,0,0,0,0,0,0,0,0,0,0,0,0,0\\\n",
        "      ]\n",
        "\n",
        "impulse1=[0 ,0,0,0,0,0,0,0,0,0,0,0,0,0,0,0,0,0,0,\\\n",
        "          100,\\\n",
        "          0  ,0,0,0,0,0,0,0,0,0,0,0,0,0,0,0,0,0,0\\\n",
        "         ]\n",
        "\n",
        "impulse2=[100,0,0,0,0,0,0,0,0,0,0,0,0,0,0,0,0,0,0,\\\n",
        "          0  ,\\\n",
        "          0  ,0,0,0,0,0,0,0,0,0,0,0,0,0,0,0,0,0,0\\\n",
        "         ]\n",
        "\n",
        "impulse3=[0,0,0,0,0,0,0,0,0,0,0,0,0,0,0,0,0,0,0,\\\n",
        "          0,\\\n",
        "          0,0,0,0,0,0,0,0,0,0,0,0,0,0,0,0,0,0,100\\\n",
        "         ]\n",
        "\n",
        "rising=[1,2,3,4,5,6,7,8,9,10,11,12,13,14,15,16,17,\\\n",
        "        18,19,20,21,22,23,24,25,26,27,28,29,30,31,\\\n",
        "        32,33,34,35,36,37,38,39,40,41,42,43,44,45,46\\\n",
        "       ]\n",
        "\n",
        "sawtooth=[1,2,3,4,5,6,7,8,9,10,11,12,13,14,15,16,17,\\\n",
        "          0,\\\n",
        "          1,2,3,4,5,6,7,8,9,10,11,12,13,14,15,16,17\\\n",
        "         ]\n",
        "\n",
        "triangular=[0,1,2,3,4,5,6,7,8,9,10,11,12,13,14,15,16,17,\\\n",
        "            16,15,14,13,12,11,10,9,8,7,6,5,4,3,2,1,0\\\n",
        "         ]\n",
        "\n",
        "maxfreq=[-1,1,-1,1,-1,1,-1,1,-1,1,-1,1,-1,1,-1,1,-1,1,-1,1,-1,1,-1,1,-1,1,-1,\\\n",
        "         1,-1,1,-1,1,-1,1,-1,1,-1,1,-1,1,-1,1,-1,1,-1,1,-1,1,-1,1,-1,1,-1,\\\n",
        "        ]\n",
        "dc=[1,1,1,1,1,1,1,1,1,1,1,1,1,1,1,1,1,1,1,1,1,1,1,1,1,\\\n",
        "    1,1,1,1,1,1,1,1,1,1,1,1,1,1,1,1,1,1,1,1,1,1,1,1,1\n",
        "   ]\n",
        "\n",
        "# ========== End of signal gallery =============================\n",
        "\n",
        "x=np.array(pulse,'float')\n",
        "#x=np.array(dc,'float')\n",
        "\n",
        "print(\"Input samples x = \",x)\n",
        "N=len(x)\n",
        "harm_no=np.arange(N) # harmonic number\n",
        "print(\"No. of input samples =  \",N)\n",
        "ZeroToN=range(N)\n",
        "X    = np.zeros(N) # Cap X Initialize the output samples to zero MATLAB like ! \n",
        "Xcos = np.zeros(N)\n",
        "Xsin = np.zeros(N)\n",
        "Xmag = np.zeros(N)\n",
        "Xph  = np.zeros(N)\n",
        "\n",
        "# Remember it is np.zeros(N) and not just zeros(N)\n",
        "for m in ZeroToN:\n",
        "  X[m]=0\n",
        "  \n",
        "for m in ZeroToN:\n",
        "  for n in ZeroToN:\n",
        "    #print(m,n)\n",
        "    Xcos[m]=Xcos[m]+x[n]*math.cos((2*math.pi*m*n)/N)\n",
        "    Xsin[m]=Xsin[m]+x[n]*math.sin((2*math.pi*m*n)/N)\n",
        "    Xmag[m]=math.sqrt(Xcos[m]*Xcos[m]+Xsin[m]*Xsin[m])\n",
        "    Xph[m] =math.degrees(math.atan2(Xsin[m],Xcos[m]))\n",
        "\n",
        "#print('Xcos = ',Xcos)\n",
        "#print('Xsin = ',Xsin)\n",
        "#print('Xmag = ',Xmag)\n",
        "#print('Xph(degrees) = ',Xph)\n",
        "\n",
        "import scipy as sp\n",
        "y=sp.fft(x)\n",
        "#print(y)\n",
        "\n",
        "ymag=abs(y)\n",
        "#print(ymag)\n",
        "#print(Xmag-ymag)\n",
        "\n",
        "\n",
        "\n",
        "# FFT shift type of display \n",
        "# so that harm_no goes only upto N/2\n",
        "\n",
        "Nby2=int(N/2); # type casting to int since np.roll() needs integer argument\n",
        "Xmag_s=np.roll(Xmag,Nby2)# for circularly shifting samples\n",
        "h_s=harm_no-Nby2; \n",
        "\n",
        "# ==== plot the samples of input signal\n",
        "markerline,stemlines,baseline=plot.stem(harm_no,x,'-*')\n",
        "plot.xlabel('Sample no.')\n",
        "plot.ylabel('Sample value')\n",
        "plot.title('Input Signal to DFT')\n",
        "plot.show()\n",
        "# ==== plot the samples of output ( DFT )\n",
        "markerline,stemlines,baseline=plot.stem(h_s,Xmag_s,'-*')\n",
        "plot.xlabel('Harmonic No.\\n Note:DC is at centre and harmonics go up to N/2')\n",
        "plot.ylabel('DFT Magnitude')\n",
        "plot.title('DFT of Input Signal')\n",
        "plot.show()"
      ],
      "execution_count": 0,
      "outputs": [
        {
          "output_type": "stream",
          "text": [
            "Input samples x =  [  0.   0.   0.   0.   0.   0.   0.   0.   0.   0.   0.   0.   0.   0.\n",
            "   0.   0.   0.   0.   0. 100. 100. 100. 100. 100. 100.   0.   0.   0.\n",
            "   0.   0.   0.   0.   0.   0.   0.   0.   0.   0.   0.   0.   0.   0.\n",
            "   0.   0.]\n",
            "No. of input samples =   44\n"
          ],
          "name": "stdout"
        },
        {
          "output_type": "display_data",
          "data": {
            "image/png": "[encoded data removed]",
            "text/plain": [
              "<Figure size 432x288 with 1 Axes>"
            ]
          },
          "metadata": {
            "tags": []
          }
        },
        {
          "output_type": "display_data",
          "data": {
            "image/png": "[encoded data removed]",
            "text/plain": [
              "<Figure size 432x288 with 1 Axes>"
            ]
          },
          "metadata": {
            "tags": []
          }
        }
      ]
    }
  ]
}